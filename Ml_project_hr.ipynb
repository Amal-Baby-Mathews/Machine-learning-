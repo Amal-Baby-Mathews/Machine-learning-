{
 "cells": [
  {
   "cell_type": "code",
   "execution_count": 4,
   "id": "25971266-003b-4261-8575-9ecff1c9d071",
   "metadata": {},
   "outputs": [
    {
     "data": {
      "text/plain": [
       "0.8027210884353742"
      ]
     },
     "execution_count": 4,
     "metadata": {},
     "output_type": "execute_result"
    }
   ],
   "source": [
    "import pandas as pd\n",
    "import numpy as np\n",
    "import matplotlib.pyplot as plt\n",
    "%matplotlib inline\n",
    "import seaborn as sns\n",
    "import sys\n",
    "from sklearn.metrics import accuracy_score, classification_report, confusion_matrix\n",
    "df = pd.read_csv(\"C:/Users/Admin/ML_project/codes/data/WA_Fn-UseC_-HR-Employee-Attrition.csv\")\n",
    "df.head()\n",
    "#removing unnecessary columns\n",
    "num_col = list(df.describe().columns)\n",
    "col_categorical = list(set(df.columns).difference(num_col))\n",
    "remove_list = ['EmployeeCount', 'EmployeeNumber', 'StandardHours']\n",
    "col_numerical = [e for e in num_col if e not in remove_list]\n",
    "categorical_col = []\n",
    "for k, v in df.iteritems():\n",
    "    if v.dtype == 'object':\n",
    "        categorical_col.append(k)\n",
    "df[col_numerical].corr()\n",
    "attrition_to_num = {'Yes': 0,\n",
    "                    'No': 1}\n",
    "df['Attrition_num'] = df['Attrition'].map(attrition_to_num)\n",
    "col_categorical.remove('Attrition')\n",
    "df_cat = pd.get_dummies(df[col_categorical])\n",
    "X = pd.concat([df[col_numerical], df_cat], axis=1)\n",
    "X.head()\n",
    "y = df['Attrition_num']\n",
    "from sklearn.model_selection import train_test_split\n",
    "X_train, X_test, y_train, y_test = train_test_split(X, y, test_size=0.2)\n",
    "from sklearn.tree import DecisionTreeClassifier\n",
    "clf = DecisionTreeClassifier(random_state=42)\n",
    "clf.fit(X_train, y_train)\n",
    "accuracy_score(y_test, clf.predict(X_test))"
   ]
  },
  {
   "cell_type": "code",
   "execution_count": 23,
   "id": "33ed6874-4d6d-46b3-bc93-8361c787b5b5",
   "metadata": {},
   "outputs": [
    {
     "name": "stderr",
     "output_type": "stream",
     "text": [
      "C:\\Users\\Admin\\anaconda3\\envs\\Machin_Python\\lib\\site-packages\\sklearn\\base.py:451: UserWarning: X does not have valid feature names, but DecisionTreeClassifier was fitted with feature names\n",
      "  \"X does not have valid feature names, but\"\n"
     ]
    },
    {
     "data": {
      "text/plain": [
       "array([0], dtype=int64)"
      ]
     },
     "execution_count": 23,
     "metadata": {},
     "output_type": "execute_result"
    }
   ],
   "source": [
    "clf.predict(X_test.iloc[2].values.reshape(1, -1))"
   ]
  },
  {
   "cell_type": "code",
   "execution_count": null,
   "id": "e32d238c-7e08-4e35-ac08-f884f962170f",
   "metadata": {},
   "outputs": [],
   "source": []
  }
 ],
 "metadata": {
  "kernelspec": {
   "display_name": "Python 3 (ipykernel)",
   "language": "python",
   "name": "python3"
  },
  "language_info": {
   "codemirror_mode": {
    "name": "ipython",
    "version": 3
   },
   "file_extension": ".py",
   "mimetype": "text/x-python",
   "name": "python",
   "nbconvert_exporter": "python",
   "pygments_lexer": "ipython3",
   "version": "3.7.16"
  }
 },
 "nbformat": 4,
 "nbformat_minor": 5
}
